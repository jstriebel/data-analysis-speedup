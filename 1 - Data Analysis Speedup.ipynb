{
 "cells": [
  {
   "cell_type": "code",
   "execution_count": 1,
   "id": "4adb8c11-7532-4628-8bb5-08e78efcfad8",
   "metadata": {},
   "outputs": [],
   "source": [
    "import json\n",
    "from pathlib import Path\n",
    "\n",
    "import numba\n",
    "import numpy as np\n",
    "\n",
    "from utils.measure_and_compare import measure_and_compare, reset_measure_and_compare\n",
    "from utils.preparation import get_segmentation, plot\n",
    "\n",
    "reset_measure_and_compare()"
   ]
  },
  {
   "cell_type": "code",
   "execution_count": 2,
   "id": "3693b372-9156-42f3-ba5b-ec47b211ec67",
   "metadata": {},
   "outputs": [],
   "source": [
    "def load_data(path):\n",
    "    segments = []\n",
    "    counts = []\n",
    "    centers = []\n",
    "    for json_path in sorted(path.glob(\"*.json\"), key=lambda p: int(p.stem)):\n",
    "        with open(json_path) as f:\n",
    "            data = json.load(f)\n",
    "            segments.append(data[\"segments\"])\n",
    "            counts.append(data[\"counts\"])\n",
    "            centers.append(data[\"centers\"])\n",
    "    return segments, counts, centers\n",
    "\n",
    "\n",
    "def combine_stats(chunked_segments, chunked_counts, chunked_centers):\n",
    "    counts_per_segment = {}\n",
    "    centers_per_segement = {}\n",
    "    for segments_i, counts_i, centers_i in zip(\n",
    "        chunked_segments, chunked_counts, chunked_centers\n",
    "    ):\n",
    "        for segment, count, center in zip(segments_i, counts_i, centers_i):\n",
    "            counts_per_segment.setdefault(segment, []).append(count)\n",
    "            centers_per_segement.setdefault(segment, []).append(center)\n",
    "\n",
    "    result_segments = []\n",
    "    result_counts = []\n",
    "    result_centers = []\n",
    "    for segment in counts_per_segment.keys():\n",
    "        center_x = 0\n",
    "        center_y = 0\n",
    "        count_sum = 0\n",
    "        for count, center in zip(\n",
    "            counts_per_segment[segment], centers_per_segement[segment]\n",
    "        ):\n",
    "            center_x += center[0] * count\n",
    "            center_y += center[1] * count\n",
    "            count_sum += count\n",
    "\n",
    "        result_segments.append(segment)\n",
    "        result_counts.append(count_sum)\n",
    "        result_centers.append((center_x / count_sum, center_y / count_sum))\n",
    "    return result_segments, result_counts, result_centers\n",
    "\n",
    "\n",
    "def load_and_combine_stats(path):\n",
    "    chunked_stats = load_data(path)\n",
    "    return combine_stats(*chunked_stats)"
   ]
  },
  {
   "cell_type": "code",
   "execution_count": 3,
   "id": "e82f306f-e521-49d0-a2c9-40e84bdab26b",
   "metadata": {},
   "outputs": [
    {
     "data": {
      "image/png": "[encoded data removed]",
      "text/plain": [
       "<Figure size 432x288 with 1 Axes>"
      ]
     },
     "metadata": {
      "needs_background": "light"
     },
     "output_type": "display_data"
    }
   ],
   "source": [
    "combined_stats = load_and_combine_stats(Path(\"data/small\"))\n",
    "\n",
    "segmentation = get_segmentation()\n",
    "plot(segmentation, combined_stats)"
   ]
  },
  {
   "cell_type": "markdown",
   "id": "e9e688ae-7102-44c5-8080-95a5b2722699",
   "metadata": {},
   "source": [
    "# Profiling"
   ]
  },
  {
   "cell_type": "code",
   "execution_count": 4,
   "id": "aedaa01b-32a6-4cc5-a896-9f02c7b7f337",
   "metadata": {},
   "outputs": [
    {
     "name": "stdout",
     "output_type": "stream",
     "text": [
      "15.4 s ± 593 ms per loop (mean ± std. dev. of 7 runs, 1 loop each)\n"
     ]
    }
   ],
   "source": [
    "%%timeit\n",
    "load_and_combine_stats(Path(\"data/large\"))"
   ]
  },
  {
   "cell_type": "code",
   "execution_count": 5,
   "id": "c10d8d18-465f-443e-9492-8f5f6e2ebbcb",
   "metadata": {
    "collapsed": true,
    "jupyter": {
     "outputs_hidden": true
    },
    "tags": []
   },
   "outputs": [
    {
     "name": "stdout",
     "output_type": "stream",
     "text": [
      "\n",
      "Clock type: CPU\n",
      "Ordered by: totaltime, desc\n",
      "\n",
      "name                                  ncall  tsub      ttot      tavg      \n",
      "..:3483 ZMQInteractiveShell.run_code  1      0.000017  59.39702  59.39702\n",
      "..nel_15257/2801445275.py:6 <module>  1      0.413383  59.39698  59.39698\n",
      "..65336.py:44 load_and_combine_stats  1      0.053888  58.98350  58.98350\n",
      "..5257/339865336.py:14 combine_stats  1      21.66024  39.29477  39.29477\n",
      "..nel_15257/339865336.py:1 load_data  1      0.602757  19.63484  19.63484\n",
      "..ython3.7/json/__init__.py:274 load  10000  0.050002  18.25148  0.001825\n",
      "..thon3.7/json/__init__.py:299 loads  10000  0.043793  17.84126  0.001784\n",
      "../decoder.py:332 JSONDecoder.decode  10000  0.080255  17.78021  0.001778\n",
      "..oder.py:343 JSONDecoder.raw_decode  10000  17.63666  17.63667  0.001764\n",
      "..3.7/pathlib.py:1091 PosixPath.glob  10001  0.017548  0.261054  0.000026\n",
      "..516 _WildcardSelector._select_from  10001  0.106270  0.243425  0.000024\n",
      "..s.py:319 IncrementalDecoder.decode  10000  0.030140  0.124473  0.000012\n",
      "..athlib.py:703 PosixPath.__fspath__  10002  0.025801  0.104998  0.000010\n",
      "..1020 PosixPath._make_child_relpath  10000  0.026290  0.080040  0.000008\n",
      "..7/pathlib.py:693 PosixPath.__str__  10002  0.044364  0.079197  0.000008\n",
      "..rnel_15257/339865336.py:5 <lambda>  10000  0.015156  0.077930  0.000008\n",
      "..n3.7/pathlib.py:806 PosixPath.stem  10000  0.028821  0.062773  0.000006\n",
      "../pathlib.py:666 _from_parsed_parts  10000  0.032345  0.053750  0.000005\n",
      "..tlocale.py:33 getpreferredencoding  10000  0.026720  0.048639  0.000005\n",
      "..athlib.py:676 _format_parsed_parts  10001  0.021704  0.034834  0.000003\n",
      "..py:309 IncrementalDecoder.__init__  10000  0.020904  0.030830  0.000003\n",
      "..n3.7/pathlib.py:779 PosixPath.name  10000  0.014684  0.020969  0.000002\n",
      ".. _TerminatingSelector._select_from  20000  0.015553  0.015553  0.000001\n",
      "..hlib.py:305 _PosixFlavour.casefold  20001  0.015306  0.015306  0.000001\n",
      "...7/pathlib.py:1010 PosixPath._init  10001  0.010404  0.010404  0.000001\n",
      "..py:260 IncrementalDecoder.__init__  10000  0.009926  0.009926  0.000001\n",
      "..lets/traitlets.py:597 List.__set__  2      0.000013  0.000251  0.000126\n",
      "..aitlets/traitlets.py:2647 List.set  2      0.000026  0.000239  0.000119\n",
      "..raitlets/traitlets.py:579 List.set  2      0.000022  0.000208  0.000104\n",
      "..ncio/events.py:86 TimerHandle._run  1      0.000014  0.000118  0.000118\n",
      "..:1218 HistoryManager._notify_trait  1      0.000011  0.000103  0.000103\n",
      "..:1227 HistoryManager.notify_change  1      0.000008  0.000092  0.000092\n",
      "../python3.7/pathlib.py:1000 __new__  1      0.000013  0.000091  0.000091\n",
      "..1 HistoryManager._notify_observers  1      0.000051  0.000084  0.000084\n",
      "..ts/traitlets.py:608 List._validate  2      0.000019  0.000084  0.000042\n",
      "..p.py:132 XCachingCompiler.__call__  2      0.000013  0.000083  0.000042\n",
      "..thon3.7/pathlib.py:653 _from_parts  1      0.000014  0.000076  0.000076\n",
      "..p.py:733 AsyncIOLoop._run_callback  1      0.000022  0.000076  0.000076\n",
      "..:476 _WildcardSelector.select_from  1      0.000006  0.000067  0.000067\n",
      "..thon3.7/pathlib.py:633 _parse_args  1      0.000024  0.000061  0.000061\n",
      "..7/pathlib.py:1346 PosixPath.is_dir  1      0.000009  0.000060  0.000060\n",
      "..l/iostream.py:481 OutStream._flush  1      0.000013  0.000054  0.000054\n",
      "..3.7/pathlib.py:1156 PosixPath.stat  1      0.000005  0.000050  0.000050\n",
      "..ts/traitlets.py:2499 List.validate  2      0.000019  0.000049  0.000025\n",
      "..ib.py:62 _PosixFlavour.parse_parts  2      0.000031  0.000045  0.000022\n",
      "..eam.py:562 OutStream._flush_buffer  1      0.000017  0.000042  0.000042\n",
      ".._GeneratorContextManager.__enter__  2      0.000008  0.000024  0.000012\n",
      "..python3.7/contextlib.py:237 helper  2      0.000010  0.000023  0.000012\n",
      "..tils/bunch.py:11 Bunch.__getattr__  3      0.000020  0.000022  0.000007\n",
      "..ets.py:2640 List.validate_elements  2      0.000016  0.000021  0.000011\n",
      "..am.py:569 OutStream._rotate_buffer  1      0.000018  0.000018  0.000018\n",
      "..py:631 _UnixSelectorEventLoop.time  1      0.000013  0.000016  0.000016\n",
      ".. _GeneratorContextManager.__exit__  2      0.000007  0.000016  0.000008\n",
      "..itlets.py:617 List._cross_validate  2      0.000010  0.000014  0.000007\n",
      "..toryManager._writeout_output_cache  1      0.000008  0.000013  0.000013\n",
      ".. _GeneratorContextManager.__init__  2      0.000010  0.000013  0.000006\n",
      "..lets/traitlets.py:566 Bool.__get__  2      0.000008  0.000013  0.000006\n",
      "..03 CommandChainDispatcher.__call__  2      0.000009  0.000011  0.000006\n",
      "..eractiveShell._update_code_co_name  2      0.000007  0.000009  0.000005\n",
      "..y:166 XCachingCompiler.extra_flags  4      0.000009  0.000009  0.000002\n",
      "..lets/traitlets.py:566 List.__get__  2      0.000006  0.000008  0.000004\n",
      "..e/interactiveshell.py:124 <lambda>  2      0.000007  0.000007  0.000003\n",
      "..ts/traitlets.py:1847 List.validate  2      0.000005  0.000006  0.000003\n",
      "..reading.py:240 Condition.__enter__  1      0.000004  0.000004  0.000004\n",
      "..raitlets/traitlets.py:535 Bool.get  2      0.000004  0.000004  0.000002\n",
      "..reading.py:255 Condition._is_owned  1      0.000003  0.000004  0.000004\n",
      "..ages/cycler.py:239 Cycler.__iter__  2      0.000004  0.000004  0.000002\n",
      "..ipstruct.py:125 Struct.__getattr__  2      0.000004  0.000004  0.000002\n",
      "..ets.py:2510 List.validate_elements  2      0.000004  0.000004  0.000002\n",
      "..lib.py:290 _PosixFlavour.splitroot  2      0.000003  0.000003  0.000002\n",
      "..xSelectorEventLoop._process_events  1      0.000003  0.000003  0.000003\n",
      "..ZMQInteractiveShell.user_global_ns  2      0.000003  0.000003  0.000002\n",
      "..ing.py:249 Condition._release_save  1      0.000002  0.000003  0.000003\n",
      "..raitlets/traitlets.py:535 List.get  2      0.000002  0.000002  0.000001\n",
      "..e/interactiveshell.py:3424 compare  2      0.000002  0.000002  0.000001\n",
      "..InteractiveShell.pre_run_code_hook  2      0.000002  0.000002  0.000001\n",
      "..hon3.7/threading.py:534 Event.wait  1      0.000000  0.000000  0.000000\n",
      "...7/threading.py:264 Condition.wait  1      0.000000  0.000000  0.000000\n",
      "..nel_15257/2801445275.py:7 <module>  1      0.000000  0.000000  0.000000\n",
      "..9 _UnixSelectorEventLoop._run_once  1      0.000000  0.000000  0.000000\n",
      "..ectors.py:451 EpollSelector.select  1      0.000000  0.000000  0.000000\n"
     ]
    }
   ],
   "source": [
    "import yappi\n",
    "\n",
    "yappi.set_clock_type(\"cpu\")\n",
    "yappi.clear_stats()\n",
    "yappi.start()\n",
    "_ = load_and_combine_stats(Path(\"data/large\"))\n",
    "yappi.stop()\n",
    "yappi.get_func_stats().print_all()"
   ]
  },
  {
   "cell_type": "code",
   "execution_count": 6,
   "id": "e01da51d-8129-4b6c-aadc-d9fb74891772",
   "metadata": {},
   "outputs": [
    {
     "data": {
      "text/html": [
       "<a href='profiles/flamegraph.svg' target='_blank'>profiles/flamegraph.svg</a><br>"
      ],
      "text/plain": [
       "/home/jonathan/code/data-analysis-speedup/profiles/flamegraph.svg"
      ]
     },
     "metadata": {},
     "output_type": "display_data"
    }
   ],
   "source": [
    "from os import getpid\n",
    "from subprocess import DEVNULL, Popen\n",
    "\n",
    "from IPython.display import FileLink, display\n",
    "\n",
    "py_spy_process = Popen(\n",
    "    [\n",
    "        \"py-spy\",\n",
    "        \"record\",\n",
    "        \"--native\",\n",
    "        \"--subprocesses\",\n",
    "        \"--nolineno\",\n",
    "        \"-o\",\n",
    "        \"profiles/flamegraph.svg\",\n",
    "        \"--duration\",\n",
    "        \"35\",\n",
    "        \"--pid\",\n",
    "        str(getpid()),\n",
    "    ],\n",
    "    stdout=DEVNULL,\n",
    ")\n",
    "\n",
    "_ = load_and_combine_stats(Path(\"data/large\"))\n",
    "\n",
    "py_spy_process.wait()\n",
    "display(FileLink(\"profiles/flamegraph.svg\"))"
   ]
  },
  {
   "cell_type": "code",
   "execution_count": 7,
   "id": "abca65ef-6ff0-457a-82f9-b92fb50f1842",
   "metadata": {},
   "outputs": [],
   "source": [
    "@measure_and_compare()\n",
    "def load_and_combine_stats(path):\n",
    "    chunked_stats = load_data(path)\n",
    "    return combine_stats(*chunked_stats)"
   ]
  },
  {
   "cell_type": "code",
   "execution_count": 8,
   "id": "7c2147a7-4e24-4447-940e-c1c08ebc771f",
   "metadata": {},
   "outputs": [
    {
     "name": "stdout",
     "output_type": "stream",
     "text": [
      "22.28s (28.92s wall)  load_and_combine_stats(data/large)\n"
     ]
    },
    {
     "data": {
      "text/html": [
       "<a href='profiles/load_and_combine_stats__data_large.svg' target='_blank'>profiles/load_and_combine_stats__data_large.svg</a><br>"
      ],
      "text/plain": [
       "/home/jonathan/code/data-analysis-speedup/profiles/load_and_combine_stats__data_large.svg"
      ]
     },
     "metadata": {},
     "output_type": "display_data"
    }
   ],
   "source": [
    "combined_stats = load_and_combine_stats(Path(\"data/large\"), max_time=35)"
   ]
  },
  {
   "cell_type": "markdown",
   "id": "bf9b10dd-d5a5-4f81-aee3-87d391a97660",
   "metadata": {},
   "source": [
    "# Efficient IO"
   ]
  },
  {
   "cell_type": "code",
   "execution_count": 9,
   "id": "52a1490d-8fa3-4bce-8235-f1a891fc333a",
   "metadata": {},
   "outputs": [],
   "source": [
    "import h5py\n",
    "\n",
    "\n",
    "def load_data_hdf5(path):\n",
    "    segments = []\n",
    "    counts = []\n",
    "    centers = []\n",
    "    for hdf5_path in sorted(path.glob(\"*.hdf5\"), key=lambda p: int(p.stem)):\n",
    "        with h5py.File(hdf5_path, \"r\") as f:\n",
    "            segments.append(f[\"segments\"][:])\n",
    "            counts.append(f[\"counts\"][:])\n",
    "            centers.append(f[\"centers\"][:])\n",
    "    return segments, counts, centers\n",
    "\n",
    "\n",
    "@measure_and_compare()\n",
    "def load_and_combine_stats_v1(path):\n",
    "    chunked_stats = load_data_hdf5(path)\n",
    "    return combine_stats(*chunked_stats)"
   ]
  },
  {
   "cell_type": "code",
   "execution_count": 10,
   "id": "48228bfc-7b10-4829-9b08-ee5bb3eef20c",
   "metadata": {},
   "outputs": [
    {
     "data": {
      "image/png": "[encoded data removed]",
      "text/plain": [
       "<Figure size 432x288 with 1 Axes>"
      ]
     },
     "metadata": {
      "needs_background": "light"
     },
     "output_type": "display_data"
    },
    {
     "name": "stdout",
     "output_type": "stream",
     "text": [
      "14.47s (27.11s wall) load_and_combine_stats_v1(data/large), 54.04% faster (load_and_combine_stats was 22.28s)\n"
     ]
    },
    {
     "data": {
      "text/html": [
       "<a href='profiles/load_and_combine_stats_v1__data_large.svg' target='_blank'>profiles/load_and_combine_stats_v1__data_large.svg</a><br>"
      ],
      "text/plain": [
       "/home/jonathan/code/data-analysis-speedup/profiles/load_and_combine_stats_v1__data_large.svg"
      ]
     },
     "metadata": {},
     "output_type": "display_data"
    }
   ],
   "source": [
    "combined_stats = load_and_combine_stats_v1(Path(\"data/small\"))\n",
    "\n",
    "plot(segmentation, combined_stats)\n",
    "\n",
    "combined_stats = load_and_combine_stats_v1(Path(\"data/large\"), max_time=30)"
   ]
  },
  {
   "cell_type": "markdown",
   "id": "bfb733f0-2052-4aa4-8bef-024bfb0ee3ca",
   "metadata": {},
   "source": [
    "# Vectorization"
   ]
  },
  {
   "cell_type": "code",
   "execution_count": 11,
   "id": "318aa3b1-cad8-4325-93f9-9c0a1fde26f0",
   "metadata": {},
   "outputs": [],
   "source": [
    "def combine_stats_numpy(chunked_stats):\n",
    "    chunked_segments, chunked_counts, chunked_centers = chunked_stats\n",
    "    counts_per_segment = {}\n",
    "    centers_per_segement = {}\n",
    "    for segments_i, counts_i, centers_i in zip(\n",
    "        chunked_segments, chunked_counts, chunked_centers\n",
    "    ):\n",
    "        for segment, count, center in zip(segments_i, counts_i, centers_i):\n",
    "            counts_per_segment.setdefault(segment, []).append(count)\n",
    "            centers_per_segement.setdefault(segment, []).append(center)\n",
    "\n",
    "    result_segments = []\n",
    "    result_counts = []\n",
    "    result_centers = []\n",
    "    for segment in counts_per_segment.keys():\n",
    "        segment_counts = np.array(counts_per_segment[segment])\n",
    "        segment_centers = np.array(centers_per_segement[segment])\n",
    "        count_sum = segment_counts.sum()\n",
    "        center = (segment_centers * segment_counts[:, np.newaxis]).sum(\n",
    "            axis=0\n",
    "        ) / count_sum\n",
    "        result_segments.append(segment)\n",
    "        result_counts.append(count_sum)\n",
    "        result_centers.append(center)\n",
    "    return result_segments, result_counts, result_centers\n",
    "\n",
    "\n",
    "@measure_and_compare()\n",
    "def load_and_combine_stats_v2(path):\n",
    "    chunked_stats = load_data_hdf5(path)\n",
    "    return combine_stats_numpy(chunked_stats)"
   ]
  },
  {
   "cell_type": "code",
   "execution_count": 12,
   "id": "c7bf0b89-cbd7-414c-b1ad-fb949a7d3e99",
   "metadata": {},
   "outputs": [
    {
     "data": {
      "image/png": "[encoded data removed]",
      "text/plain": [
       "<Figure size 432x288 with 1 Axes>"
      ]
     },
     "metadata": {
      "needs_background": "light"
     },
     "output_type": "display_data"
    },
    {
     "name": "stdout",
     "output_type": "stream",
     "text": [
      "12.79s (23.71s wall) load_and_combine_stats_v2(data/large), 74.22% faster (load_and_combine_stats was 22.28s)\n"
     ]
    },
    {
     "data": {
      "text/html": [
       "<a href='profiles/load_and_combine_stats_v2__data_large.svg' target='_blank'>profiles/load_and_combine_stats_v2__data_large.svg</a><br>"
      ],
      "text/plain": [
       "/home/jonathan/code/data-analysis-speedup/profiles/load_and_combine_stats_v2__data_large.svg"
      ]
     },
     "metadata": {},
     "output_type": "display_data"
    }
   ],
   "source": [
    "combined_stats = load_and_combine_stats_v2(Path(\"data/small\"))\n",
    "\n",
    "plot(segmentation, combined_stats)\n",
    "\n",
    "combined_stats = load_and_combine_stats_v2(Path(\"data/large\"), max_time=25)"
   ]
  },
  {
   "cell_type": "code",
   "execution_count": 13,
   "id": "9d39d034-8c27-43bf-9590-8a2f0928dafc",
   "metadata": {},
   "outputs": [],
   "source": [
    "def combine_stats_numpy_fast_groupby(chunked_stats):\n",
    "    all_segments = np.concatenate([i for i in chunked_stats[0] if len(i) > 0])\n",
    "    all_counts = np.concatenate([i for i in chunked_stats[1] if len(i) > 0])\n",
    "    all_centers = np.concatenate([i for i in chunked_stats[2] if len(i) > 0])\n",
    "\n",
    "    # sort all arrays by all_segments\n",
    "    sort_idx = np.argsort(all_segments)\n",
    "    all_segments = all_segments[sort_idx]\n",
    "    all_counts = all_counts[sort_idx]\n",
    "    all_centers = all_centers[sort_idx]\n",
    "\n",
    "    # group by segments (g_idx is where the groups start)\n",
    "    g_segments, g_idx = np.unique(all_segments, return_index=True)\n",
    "    g_counts = np.split(all_counts, g_idx[1:])\n",
    "    g_centers = np.split(all_centers, g_idx[1:])\n",
    "\n",
    "    # empty arrays for results\n",
    "    segments = np.ndarray(len(g_segments), dtype=all_segments.dtype)\n",
    "    counts = np.ndarray(len(g_segments), dtype=all_counts.dtype)\n",
    "    centers = np.ndarray((len(g_segments), 2), dtype=all_centers.dtype)\n",
    "\n",
    "    # combine stats for each segment\n",
    "    for i, (segment, segment_counts, segment_centers) in enumerate(\n",
    "        zip(g_segments, g_counts, g_centers)\n",
    "    ):\n",
    "        count_sum = segment_counts.sum()\n",
    "        center = (segment_centers * segment_counts[:, np.newaxis]).sum(\n",
    "            axis=0\n",
    "        ) / count_sum\n",
    "        segments[i] = segment\n",
    "        counts[i] = count_sum\n",
    "        centers[i] = center\n",
    "    return segments, counts, centers\n",
    "\n",
    "\n",
    "@measure_and_compare()\n",
    "def load_and_combine_stats_v3(path):\n",
    "    chunked_stats = load_data_hdf5(path)\n",
    "    return combine_stats_numpy_fast_groupby(chunked_stats)"
   ]
  },
  {
   "cell_type": "code",
   "execution_count": 14,
   "id": "2d6f7125-5832-4fcf-8075-33b687917f6e",
   "metadata": {},
   "outputs": [
    {
     "data": {
      "image/png": "[encoded data removed]",
      "text/plain": [
       "<Figure size 432x288 with 1 Axes>"
      ]
     },
     "metadata": {
      "needs_background": "light"
     },
     "output_type": "display_data"
    },
    {
     "name": "stdout",
     "output_type": "stream",
     "text": [
      " 8.04s (16.74s wall) load_and_combine_stats_v3(data/large), 177.14% faster (load_and_combine_stats was 22.28s)\n"
     ]
    },
    {
     "data": {
      "text/html": [
       "<a href='profiles/load_and_combine_stats_v3__data_large.svg' target='_blank'>profiles/load_and_combine_stats_v3__data_large.svg</a><br>"
      ],
      "text/plain": [
       "/home/jonathan/code/data-analysis-speedup/profiles/load_and_combine_stats_v3__data_large.svg"
      ]
     },
     "metadata": {},
     "output_type": "display_data"
    }
   ],
   "source": [
    "combined_stats = load_and_combine_stats_v3(Path(\"data/small\"))\n",
    "\n",
    "plot(segmentation, combined_stats)\n",
    "\n",
    "combined_stats = load_and_combine_stats_v3(Path(\"data/large\"))"
   ]
  },
  {
   "cell_type": "markdown",
   "id": "07f52ff8-c589-4114-985b-8b8d21bbf129",
   "metadata": {},
   "source": [
    "# Memory & Precision Tradeoffs"
   ]
  },
  {
   "cell_type": "code",
   "execution_count": 15,
   "id": "3b730a26-a731-4b4d-91af-89de04760687",
   "metadata": {},
   "outputs": [],
   "source": [
    "def combine_stats_numpy_fast_groupby(chunked_stats):\n",
    "    all_segments = np.concatenate(\n",
    "        [i.astype(np.uint32) for i in chunked_stats[0] if len(i) > 0]\n",
    "    )\n",
    "    all_counts = np.concatenate(\n",
    "        [i.astype(np.uint32) for i in chunked_stats[1] if len(i) > 0]\n",
    "    )\n",
    "    all_centers = np.concatenate(\n",
    "        [i.astype(np.float32) for i in chunked_stats[2] if len(i) > 0]\n",
    "    )\n",
    "\n",
    "    # sort all arrays by all_segments\n",
    "    sort_idx = np.argsort(all_segments)\n",
    "    all_segments = all_segments[sort_idx]\n",
    "    all_counts = all_counts[sort_idx]\n",
    "    all_centers = all_centers[sort_idx]\n",
    "\n",
    "    # group by segments (g_idx is where the groups start)\n",
    "    g_segments, g_idx = np.unique(all_segments, return_index=True)\n",
    "    g_counts = np.split(all_counts, g_idx[1:])\n",
    "    g_centers = np.split(all_centers, g_idx[1:])\n",
    "\n",
    "    # empty arrays for results\n",
    "    segments = np.ndarray(len(g_segments), dtype=all_segments.dtype)\n",
    "    counts = np.ndarray(len(g_segments), dtype=all_counts.dtype)\n",
    "    centers = np.ndarray((len(g_segments), 2), dtype=all_centers.dtype)\n",
    "\n",
    "    # combine stats for each segment\n",
    "    for i, (segment, segment_counts, segment_centers) in enumerate(\n",
    "        zip(g_segments, g_counts, g_centers)\n",
    "    ):\n",
    "        count_sum = segment_counts.sum()\n",
    "        center = (segment_centers * segment_counts[:, np.newaxis]).sum(\n",
    "            axis=0\n",
    "        ) / count_sum\n",
    "        segments[i] = segment\n",
    "        counts[i] = count_sum\n",
    "        centers[i] = center\n",
    "    return segments, counts, centers\n",
    "\n",
    "\n",
    "@measure_and_compare()\n",
    "def load_and_combine_stats_v4(path):\n",
    "    chunked_stats = load_data_hdf5(path)\n",
    "    return combine_stats_numpy_fast_groupby(chunked_stats)"
   ]
  },
  {
   "cell_type": "code",
   "execution_count": 16,
   "id": "540906b5-9bf7-49ba-a9cf-820369b02429",
   "metadata": {},
   "outputs": [
    {
     "data": {
      "image/png": "[encoded data removed]",
      "text/plain": [
       "<Figure size 432x288 with 1 Axes>"
      ]
     },
     "metadata": {
      "needs_background": "light"
     },
     "output_type": "display_data"
    },
    {
     "name": "stdout",
     "output_type": "stream",
     "text": [
      " 7.56s (15.86s wall) load_and_combine_stats_v4(data/large), 194.68% faster (load_and_combine_stats was 22.28s)\n"
     ]
    },
    {
     "data": {
      "text/html": [
       "<a href='profiles/load_and_combine_stats_v4__data_large.svg' target='_blank'>profiles/load_and_combine_stats_v4__data_large.svg</a><br>"
      ],
      "text/plain": [
       "/home/jonathan/code/data-analysis-speedup/profiles/load_and_combine_stats_v4__data_large.svg"
      ]
     },
     "metadata": {},
     "output_type": "display_data"
    }
   ],
   "source": [
    "combined_stats = load_and_combine_stats_v4(Path(\"data/small\"))\n",
    "\n",
    "plot(segmentation, combined_stats)\n",
    "\n",
    "combined_stats = load_and_combine_stats_v4(Path(\"data/large\"))"
   ]
  },
  {
   "cell_type": "markdown",
   "id": "ed4003e4-a6bb-4ded-9f97-ddb9fe3b8305",
   "metadata": {},
   "source": [
    "# Jit-ting with numba"
   ]
  },
  {
   "cell_type": "code",
   "execution_count": 17,
   "id": "e8441682-1cca-4804-9130-92b8ad57df36",
   "metadata": {},
   "outputs": [],
   "source": [
    "@numba.njit\n",
    "def combine_stats_per_segment(segment_counts, segment_centers):\n",
    "    count_sum = segment_counts.sum()\n",
    "    center = (segment_centers * segment_counts[:, np.newaxis]).sum(axis=0) / count_sum\n",
    "    return count_sum, center\n",
    "\n",
    "\n",
    "def combine_stats_numpy_fast_groupby_numba(chunked_stats):\n",
    "    all_segments = np.concatenate(\n",
    "        [i.astype(np.uint32) for i in chunked_stats[0] if len(i) > 0]\n",
    "    )\n",
    "    all_counts = np.concatenate(\n",
    "        [i.astype(np.uint32) for i in chunked_stats[1] if len(i) > 0]\n",
    "    )\n",
    "    all_centers = np.concatenate(\n",
    "        [i.astype(np.float32) for i in chunked_stats[2] if len(i) > 0]\n",
    "    )\n",
    "    sort_idx = np.argsort(all_segments)\n",
    "    all_segments = all_segments[sort_idx]\n",
    "    all_counts = all_counts[sort_idx]\n",
    "    all_centers = all_centers[sort_idx]\n",
    "    g_segments, g_idx = np.unique(all_segments, return_index=True)\n",
    "    g_counts = np.split(all_counts, g_idx[1:])\n",
    "    g_centers = np.split(all_centers, g_idx[1:])\n",
    "\n",
    "    def empty_array(other):\n",
    "        return np.ndarray((len(other),) + other[0].shape[1:], dtype=other[0].dtype)\n",
    "\n",
    "    segments = empty_array(g_segments)\n",
    "    counts = empty_array(g_counts)\n",
    "    centers = empty_array(g_centers)\n",
    "    for i, (segment, segment_counts, segment_centers) in enumerate(\n",
    "        zip(g_segments, g_counts, g_centers)\n",
    "    ):\n",
    "        count_sum, center = combine_stats_per_segment(segment_counts, segment_centers)\n",
    "        segments[i] = segment\n",
    "        counts[i] = count_sum\n",
    "        centers[i] = center\n",
    "    return segments, counts, centers\n",
    "\n",
    "\n",
    "@measure_and_compare()\n",
    "def load_and_combine_stats_v5(path):\n",
    "    chunked_stats = load_data_hdf5(path)\n",
    "    return combine_stats_numpy_fast_groupby_numba(chunked_stats)"
   ]
  },
  {
   "cell_type": "code",
   "execution_count": 18,
   "id": "03405ac2-4f8a-427f-965a-afe9e28b5f25",
   "metadata": {
    "collapsed": true,
    "jupyter": {
     "outputs_hidden": true
    },
    "tags": []
   },
   "outputs": [
    {
     "ename": "TypingError",
     "evalue": "Failed in nopython mode pipeline (step: nopython frontend)\nNo implementation of function Function(<built-in function getitem>) found for signature:\n \n >>> getitem(array(uint32, 1d, C), Tuple(slice<a:b>, none))\n \nThere are 22 candidate implementations:\n  - Of which 20 did not match due to:\n  Overload of function 'getitem': File: <numerous>: Line N/A.\n    With argument(s): '(array(uint32, 1d, C), Tuple(slice<a:b>, none))':\n   No match.\n  - Of which 2 did not match due to:\n  Overload in function 'GetItemBuffer.generic': File: numba/core/typing/arraydecl.py: Line 166.\n    With argument(s): '(array(uint32, 1d, C), Tuple(slice<a:b>, none))':\n   Rejected as the implementation raised a specific error:\n     NumbaTypeError: unsupported array index type none in Tuple(slice<a:b>, none)\n  raised from /home/jonathan/.cache/pypoetry/virtualenvs/data-analysis-speedup-Yl14xPLQ-py3.7/lib/python3.7/site-packages/numba/core/typing/arraydecl.py:73\n\nDuring: typing of intrinsic-call at /tmp/ipykernel_15257/1199427906.py (4)\nDuring: typing of static-get-item at /tmp/ipykernel_15257/1199427906.py (4)\n\nFile \"../../../../tmp/ipykernel_15257/1199427906.py\", line 4:\n<source missing, REPL/exec in use?>\n",
     "output_type": "error",
     "traceback": [
      "\u001b[0;31m---------------------------------------------------------------------------\u001b[0m",
      "\u001b[0;31mTypingError\u001b[0m                               Traceback (most recent call last)",
      "\u001b[0;32m/tmp/ipykernel_15257/2708378825.py\u001b[0m in \u001b[0;36m<module>\u001b[0;34m\u001b[0m\n\u001b[0;32m----> 1\u001b[0;31m \u001b[0mcombined_stats\u001b[0m \u001b[0;34m=\u001b[0m \u001b[0mload_and_combine_stats_v5\u001b[0m\u001b[0;34m(\u001b[0m\u001b[0mPath\u001b[0m\u001b[0;34m(\u001b[0m\u001b[0;34m\"data/large\"\u001b[0m\u001b[0;34m)\u001b[0m\u001b[0;34m)\u001b[0m\u001b[0;34m\u001b[0m\u001b[0;34m\u001b[0m\u001b[0m\n\u001b[0m",
      "\u001b[0;32m~/code/data-analysis-speedup/utils/measure_and_compare.py\u001b[0m in \u001b[0;36mwrapper\u001b[0;34m(*args, **kwargs)\u001b[0m\n\u001b[1;32m     50\u001b[0m             \u001b[0mwall_start\u001b[0m \u001b[0;34m=\u001b[0m \u001b[0mperf_counter\u001b[0m\u001b[0;34m(\u001b[0m\u001b[0;34m)\u001b[0m\u001b[0;34m\u001b[0m\u001b[0;34m\u001b[0m\u001b[0m\n\u001b[1;32m     51\u001b[0m             \u001b[0mstart\u001b[0m \u001b[0;34m=\u001b[0m \u001b[0mprocess_time\u001b[0m\u001b[0;34m(\u001b[0m\u001b[0;34m)\u001b[0m\u001b[0;34m\u001b[0m\u001b[0;34m\u001b[0m\u001b[0m\n\u001b[0;32m---> 52\u001b[0;31m             \u001b[0mresult\u001b[0m \u001b[0;34m=\u001b[0m \u001b[0mfunc\u001b[0m\u001b[0;34m(\u001b[0m\u001b[0;34m*\u001b[0m\u001b[0margs\u001b[0m\u001b[0;34m,\u001b[0m \u001b[0;34m**\u001b[0m\u001b[0mkwargs\u001b[0m\u001b[0;34m)\u001b[0m\u001b[0;34m\u001b[0m\u001b[0;34m\u001b[0m\u001b[0m\n\u001b[0m\u001b[1;32m     53\u001b[0m             \u001b[0mend\u001b[0m \u001b[0;34m=\u001b[0m \u001b[0mprocess_time\u001b[0m\u001b[0;34m(\u001b[0m\u001b[0;34m)\u001b[0m\u001b[0;34m\u001b[0m\u001b[0;34m\u001b[0m\u001b[0m\n\u001b[1;32m     54\u001b[0m             \u001b[0mwall_end\u001b[0m \u001b[0;34m=\u001b[0m \u001b[0mperf_counter\u001b[0m\u001b[0;34m(\u001b[0m\u001b[0;34m)\u001b[0m\u001b[0;34m\u001b[0m\u001b[0;34m\u001b[0m\u001b[0m\n",
      "\u001b[0;32m/tmp/ipykernel_15257/1199427906.py\u001b[0m in \u001b[0;36mload_and_combine_stats_v5\u001b[0;34m(path)\u001b[0m\n\u001b[1;32m     43\u001b[0m \u001b[0;32mdef\u001b[0m \u001b[0mload_and_combine_stats_v5\u001b[0m\u001b[0;34m(\u001b[0m\u001b[0mpath\u001b[0m\u001b[0;34m)\u001b[0m\u001b[0;34m:\u001b[0m\u001b[0;34m\u001b[0m\u001b[0;34m\u001b[0m\u001b[0m\n\u001b[1;32m     44\u001b[0m     \u001b[0mchunked_stats\u001b[0m \u001b[0;34m=\u001b[0m \u001b[0mload_data_hdf5\u001b[0m\u001b[0;34m(\u001b[0m\u001b[0mpath\u001b[0m\u001b[0;34m)\u001b[0m\u001b[0;34m\u001b[0m\u001b[0;34m\u001b[0m\u001b[0m\n\u001b[0;32m---> 45\u001b[0;31m     \u001b[0;32mreturn\u001b[0m \u001b[0mcombine_stats_numpy_fast_groupby_numba\u001b[0m\u001b[0;34m(\u001b[0m\u001b[0mchunked_stats\u001b[0m\u001b[0;34m)\u001b[0m\u001b[0;34m\u001b[0m\u001b[0;34m\u001b[0m\u001b[0m\n\u001b[0m",
      "\u001b[0;32m/tmp/ipykernel_15257/1199427906.py\u001b[0m in \u001b[0;36mcombine_stats_numpy_fast_groupby_numba\u001b[0;34m(chunked_stats)\u001b[0m\n\u001b[1;32m     33\u001b[0m         \u001b[0mzip\u001b[0m\u001b[0;34m(\u001b[0m\u001b[0mg_segments\u001b[0m\u001b[0;34m,\u001b[0m \u001b[0mg_counts\u001b[0m\u001b[0;34m,\u001b[0m \u001b[0mg_centers\u001b[0m\u001b[0;34m)\u001b[0m\u001b[0;34m\u001b[0m\u001b[0;34m\u001b[0m\u001b[0m\n\u001b[1;32m     34\u001b[0m     ):\n\u001b[0;32m---> 35\u001b[0;31m         \u001b[0mcount_sum\u001b[0m\u001b[0;34m,\u001b[0m \u001b[0mcenter\u001b[0m \u001b[0;34m=\u001b[0m \u001b[0mcombine_stats_per_segment\u001b[0m\u001b[0;34m(\u001b[0m\u001b[0msegment_counts\u001b[0m\u001b[0;34m,\u001b[0m \u001b[0msegment_centers\u001b[0m\u001b[0;34m)\u001b[0m\u001b[0;34m\u001b[0m\u001b[0;34m\u001b[0m\u001b[0m\n\u001b[0m\u001b[1;32m     36\u001b[0m         \u001b[0msegments\u001b[0m\u001b[0;34m[\u001b[0m\u001b[0mi\u001b[0m\u001b[0;34m]\u001b[0m \u001b[0;34m=\u001b[0m \u001b[0msegment\u001b[0m\u001b[0;34m\u001b[0m\u001b[0;34m\u001b[0m\u001b[0m\n\u001b[1;32m     37\u001b[0m         \u001b[0mcounts\u001b[0m\u001b[0;34m[\u001b[0m\u001b[0mi\u001b[0m\u001b[0;34m]\u001b[0m \u001b[0;34m=\u001b[0m \u001b[0mcount_sum\u001b[0m\u001b[0;34m\u001b[0m\u001b[0;34m\u001b[0m\u001b[0m\n",
      "\u001b[0;32m~/.cache/pypoetry/virtualenvs/data-analysis-speedup-Yl14xPLQ-py3.7/lib/python3.7/site-packages/numba/core/dispatcher.py\u001b[0m in \u001b[0;36m_compile_for_args\u001b[0;34m(self, *args, **kws)\u001b[0m\n\u001b[1;32m    466\u001b[0m                 \u001b[0me\u001b[0m\u001b[0;34m.\u001b[0m\u001b[0mpatch_message\u001b[0m\u001b[0;34m(\u001b[0m\u001b[0mmsg\u001b[0m\u001b[0;34m)\u001b[0m\u001b[0;34m\u001b[0m\u001b[0;34m\u001b[0m\u001b[0m\n\u001b[1;32m    467\u001b[0m \u001b[0;34m\u001b[0m\u001b[0m\n\u001b[0;32m--> 468\u001b[0;31m             \u001b[0merror_rewrite\u001b[0m\u001b[0;34m(\u001b[0m\u001b[0me\u001b[0m\u001b[0;34m,\u001b[0m \u001b[0;34m'typing'\u001b[0m\u001b[0;34m)\u001b[0m\u001b[0;34m\u001b[0m\u001b[0;34m\u001b[0m\u001b[0m\n\u001b[0m\u001b[1;32m    469\u001b[0m         \u001b[0;32mexcept\u001b[0m \u001b[0merrors\u001b[0m\u001b[0;34m.\u001b[0m\u001b[0mUnsupportedError\u001b[0m \u001b[0;32mas\u001b[0m \u001b[0me\u001b[0m\u001b[0;34m:\u001b[0m\u001b[0;34m\u001b[0m\u001b[0;34m\u001b[0m\u001b[0m\n\u001b[1;32m    470\u001b[0m             \u001b[0;31m# Something unsupported is present in the user code, add help info\u001b[0m\u001b[0;34m\u001b[0m\u001b[0;34m\u001b[0m\u001b[0;34m\u001b[0m\u001b[0m\n",
      "\u001b[0;32m~/.cache/pypoetry/virtualenvs/data-analysis-speedup-Yl14xPLQ-py3.7/lib/python3.7/site-packages/numba/core/dispatcher.py\u001b[0m in \u001b[0;36merror_rewrite\u001b[0;34m(e, issue_type)\u001b[0m\n\u001b[1;32m    407\u001b[0m                 \u001b[0;32mraise\u001b[0m \u001b[0me\u001b[0m\u001b[0;34m\u001b[0m\u001b[0;34m\u001b[0m\u001b[0m\n\u001b[1;32m    408\u001b[0m             \u001b[0;32melse\u001b[0m\u001b[0;34m:\u001b[0m\u001b[0;34m\u001b[0m\u001b[0;34m\u001b[0m\u001b[0m\n\u001b[0;32m--> 409\u001b[0;31m                 \u001b[0;32mraise\u001b[0m \u001b[0me\u001b[0m\u001b[0;34m.\u001b[0m\u001b[0mwith_traceback\u001b[0m\u001b[0;34m(\u001b[0m\u001b[0;32mNone\u001b[0m\u001b[0;34m)\u001b[0m\u001b[0;34m\u001b[0m\u001b[0;34m\u001b[0m\u001b[0m\n\u001b[0m\u001b[1;32m    410\u001b[0m \u001b[0;34m\u001b[0m\u001b[0m\n\u001b[1;32m    411\u001b[0m         \u001b[0margtypes\u001b[0m \u001b[0;34m=\u001b[0m \u001b[0;34m[\u001b[0m\u001b[0;34m]\u001b[0m\u001b[0;34m\u001b[0m\u001b[0;34m\u001b[0m\u001b[0m\n",
      "\u001b[0;31mTypingError\u001b[0m: Failed in nopython mode pipeline (step: nopython frontend)\nNo implementation of function Function(<built-in function getitem>) found for signature:\n \n >>> getitem(array(uint32, 1d, C), Tuple(slice<a:b>, none))\n \nThere are 22 candidate implementations:\n  - Of which 20 did not match due to:\n  Overload of function 'getitem': File: <numerous>: Line N/A.\n    With argument(s): '(array(uint32, 1d, C), Tuple(slice<a:b>, none))':\n   No match.\n  - Of which 2 did not match due to:\n  Overload in function 'GetItemBuffer.generic': File: numba/core/typing/arraydecl.py: Line 166.\n    With argument(s): '(array(uint32, 1d, C), Tuple(slice<a:b>, none))':\n   Rejected as the implementation raised a specific error:\n     NumbaTypeError: unsupported array index type none in Tuple(slice<a:b>, none)\n  raised from /home/jonathan/.cache/pypoetry/virtualenvs/data-analysis-speedup-Yl14xPLQ-py3.7/lib/python3.7/site-packages/numba/core/typing/arraydecl.py:73\n\nDuring: typing of intrinsic-call at /tmp/ipykernel_15257/1199427906.py (4)\nDuring: typing of static-get-item at /tmp/ipykernel_15257/1199427906.py (4)\n\nFile \"../../../../tmp/ipykernel_15257/1199427906.py\", line 4:\n<source missing, REPL/exec in use?>\n"
     ]
    }
   ],
   "source": [
    "combined_stats = load_and_combine_stats_v5(Path(\"data/large\"))"
   ]
  },
  {
   "cell_type": "code",
   "execution_count": 19,
   "id": "b8ac7813-b61b-422e-9c71-bc1aa6b06bc9",
   "metadata": {},
   "outputs": [],
   "source": [
    "@numba.njit()\n",
    "def combine_stats_per_segment(segment_counts, segment_centers):\n",
    "    count_sum = segment_counts.sum()\n",
    "    center = (segment_centers * segment_counts.reshape((-1, 1))).sum(axis=0) / count_sum\n",
    "    return count_sum, center"
   ]
  },
  {
   "cell_type": "code",
   "execution_count": 20,
   "id": "0a95c966-5ed9-4159-91e6-b1dfadeb9d12",
   "metadata": {},
   "outputs": [
    {
     "name": "stdout",
     "output_type": "stream",
     "text": [
      " 8.34s (16.35s wall) load_and_combine_stats_v5(data/large), 167.15% faster (load_and_combine_stats was 22.28s)\n"
     ]
    },
    {
     "data": {
      "text/html": [
       "<a href='profiles/load_and_combine_stats_v5__data_large.svg' target='_blank'>profiles/load_and_combine_stats_v5__data_large.svg</a><br>"
      ],
      "text/plain": [
       "/home/jonathan/code/data-analysis-speedup/profiles/load_and_combine_stats_v5__data_large.svg"
      ]
     },
     "metadata": {},
     "output_type": "display_data"
    },
    {
     "name": "stdout",
     "output_type": "stream",
     "text": [
      " 7.61s (16.17s wall) load_and_combine_stats_v5(data/large), 192.88% faster (load_and_combine_stats was 22.28s)\n"
     ]
    },
    {
     "data": {
      "text/html": [
       "<a href='profiles/load_and_combine_stats_v5__data_large.svg' target='_blank'>profiles/load_and_combine_stats_v5__data_large.svg</a><br>"
      ],
      "text/plain": [
       "/home/jonathan/code/data-analysis-speedup/profiles/load_and_combine_stats_v5__data_large.svg"
      ]
     },
     "metadata": {},
     "output_type": "display_data"
    }
   ],
   "source": [
    "combined_stats = load_and_combine_stats_v5(Path(\"data/large\"))\n",
    "combined_stats = load_and_combine_stats_v5(Path(\"data/large\"))"
   ]
  }
 ],
 "metadata": {
  "kernelspec": {
   "display_name": "Python 3",
   "language": "python",
   "name": "python3"
  },
  "language_info": {
   "codemirror_mode": {
    "name": "ipython",
    "version": 3
   },
   "file_extension": ".py",
   "mimetype": "text/x-python",
   "name": "python",
   "nbconvert_exporter": "python",
   "pygments_lexer": "ipython3",
   "version": "3.7.3"
  }
 },
 "nbformat": 4,
 "nbformat_minor": 5
}
