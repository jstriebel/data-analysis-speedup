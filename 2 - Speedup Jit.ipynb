{
 "cells": [
  {
   "cell_type": "code",
   "execution_count": 1,
   "id": "f5649ca4-c075-48f6-9e20-bbbdd6877d9f",
   "metadata": {},
   "outputs": [],
   "source": [
    "import json\n",
    "\n",
    "import h5py\n",
    "import numba\n",
    "import numpy as np\n",
    "\n",
    "from utils.measure_and_compare import measure_and_compare, reset_measure_and_compare\n",
    "\n",
    "reset_measure_and_compare()"
   ]
  },
  {
   "cell_type": "code",
   "execution_count": 2,
   "id": "10c7081e-0e8e-4a2e-a71a-d124772343cb",
   "metadata": {},
   "outputs": [],
   "source": [
    "def load_data_hdf5(path):\n",
    "    segments = []\n",
    "    counts = []\n",
    "    centers = []\n",
    "    covs = []\n",
    "    for hdf5_path in sorted(path.glob(\"*.hdf5\"), key=lambda p: int(p.stem)):\n",
    "        with h5py.File(hdf5_path, \"r\") as f:\n",
    "            segments.append(f[\"segments\"][:])\n",
    "            counts.append(f[\"counts\"][:])\n",
    "            centers.append(f[\"centers\"][:])\n",
    "            covs.append(f[\"covs\"][:])\n",
    "    return segments, counts, centers, covs\n",
    "\n",
    "\n",
    "def combine_stats_per_segment(covs, means, sizes):\n",
    "    reshaped_sizes = sizes.reshape((-1, 1, 1))\n",
    "    sizes_sum = sizes.sum()\n",
    "\n",
    "    # bias correction\n",
    "    corrected_covs = covs * ((reshaped_sizes - 1) / reshaped_sizes).astype(covs.dtype)\n",
    "\n",
    "    e = corrected_covs + means.reshape(\n",
    "        (means.shape[0], means.shape[1], 1)\n",
    "    ) * means.reshape((means.shape[0], 1, means.shape[1]))\n",
    "    new_e = (e * reshaped_sizes).sum(axis=(0)) / sizes_sum\n",
    "    new_mean = (means * sizes.reshape((-1, 1))).sum(0) / sizes_sum\n",
    "    new_cov = new_e - np.outer(new_mean, new_mean)\n",
    "\n",
    "    # bias correction\n",
    "    new_cov = new_cov * sizes_sum / (sizes_sum - 1)\n",
    "\n",
    "    return sizes_sum, new_mean, new_cov\n",
    "\n",
    "\n",
    "def combine_stats(chunked_stats):\n",
    "    concated_stats = tuple(\n",
    "        map(lambda x: np.concatenate([i for i in x if len(i) > 0]), chunked_stats)\n",
    "    )\n",
    "    sort_idx = np.argsort(concated_stats[0])\n",
    "    all_segments = concated_stats[0][sort_idx]\n",
    "    all_counts = concated_stats[1][sort_idx]\n",
    "    all_centers = concated_stats[2][sort_idx]\n",
    "    all_covs = concated_stats[3][sort_idx]\n",
    "    g_segments, g_idx = np.unique(all_segments, return_index=True)\n",
    "    g_counts = np.split(all_counts, g_idx[1:])\n",
    "    g_centers = np.split(all_centers, g_idx[1:])\n",
    "    g_covs = np.split(all_covs, g_idx[1:])\n",
    "\n",
    "    def empty_array(other):\n",
    "        return np.ndarray((len(other),) + other[0].shape[1:], dtype=other[0].dtype)\n",
    "\n",
    "    segments = empty_array(g_segments)\n",
    "    counts = empty_array(g_counts)\n",
    "    centers = empty_array(g_centers)\n",
    "    covs = empty_array(g_covs)\n",
    "    for i, (segment, count, center, cov) in enumerate(\n",
    "        zip(g_segments, g_counts, g_centers, g_covs)\n",
    "    ):\n",
    "        count_i, center_i, cov_i = combine_stats_per_segment(cov, center, count)\n",
    "        segments[i] = segment\n",
    "        counts[i] = count_i\n",
    "        centers[i] = center_i\n",
    "        covs[i] = cov_i\n",
    "    return np.array(segments), np.array(counts), np.array(centers), np.array(covs)\n",
    "\n",
    "\n",
    "@measure_and_compare()\n",
    "def load_and_combine_stats(path):\n",
    "    chunked_stats = load_data_hdf5(path)\n",
    "    return combine_stats(chunked_stats)"
   ]
  },
  {
   "cell_type": "code",
   "execution_count": 3,
   "id": "2fb150e3-95d8-489b-880b-70d857f3b185",
   "metadata": {},
   "outputs": [
    {
     "data": {
      "image/png": "[encoded data removed]",
      "text/plain": [
       "<Figure size 432x288 with 1 Axes>"
      ]
     },
     "metadata": {
      "needs_background": "light"
     },
     "output_type": "display_data"
    },
    {
     "name": "stdout",
     "output_type": "stream",
     "text": [
      " 9.32s (17.98s wall)  load_and_combine_stats(data/jit)\n"
     ]
    },
    {
     "data": {
      "text/html": [
       "<a href='profiles/load_and_combine_stats__data_jit.svg' target='_blank'>profiles/load_and_combine_stats__data_jit.svg</a><br>"
      ],
      "text/plain": [
       "/home/jonathan/code/data-analysis-speedup/profiles/load_and_combine_stats__data_jit.svg"
      ]
     },
     "metadata": {},
     "output_type": "display_data"
    }
   ],
   "source": [
    "from pathlib import Path\n",
    "\n",
    "from utils.preparation import get_segmentation, plot\n",
    "\n",
    "combined_stats = load_and_combine_stats(Path(\"data/small\"))\n",
    "\n",
    "segmentation = get_segmentation()\n",
    "plot(segmentation, combined_stats)\n",
    "\n",
    "combined_stats = load_and_combine_stats(Path(\"data/jit\"), max_time=25)"
   ]
  },
  {
   "cell_type": "code",
   "execution_count": 4,
   "id": "3fa620ae-afed-4337-a3c0-c7295ec31520",
   "metadata": {},
   "outputs": [],
   "source": [
    "@numba.njit\n",
    "def combine_stats_per_segment_jit(\n",
    "    covs: np.ndarray, means: np.ndarray, sizes: np.ndarray\n",
    ") -> np.ndarray:\n",
    "    reshaped_sizes = sizes.reshape((-1, 1, 1))\n",
    "    sizes_sum = sizes.sum()\n",
    "\n",
    "    # bias correction\n",
    "    corrected_covs = covs * ((reshaped_sizes - 1) / reshaped_sizes).astype(covs.dtype)\n",
    "\n",
    "    e = corrected_covs + means.reshape(\n",
    "        (means.shape[0], means.shape[1], 1)\n",
    "    ) * means.reshape((means.shape[0], 1, means.shape[1]))\n",
    "    new_e = (e * reshaped_sizes).sum(axis=(0)) / sizes_sum\n",
    "    new_mean = (means * sizes.reshape((-1, 1))).sum(0) / sizes_sum\n",
    "    new_cov = new_e - np.outer(new_mean, new_mean)\n",
    "\n",
    "    # bias correction\n",
    "    new_cov = new_cov * sizes_sum / (sizes_sum - 1)\n",
    "\n",
    "    return sizes_sum, new_mean, new_cov\n",
    "\n",
    "\n",
    "def combine_stats_jit(chunked_stats):\n",
    "    segments = []\n",
    "    counts = []\n",
    "    centers = []\n",
    "    covs = []\n",
    "    concated_stats = tuple(\n",
    "        map(lambda x: np.concatenate([i for i in x if len(i) > 0]), chunked_stats)\n",
    "    )\n",
    "    sort_idx = np.argsort(concated_stats[0])\n",
    "    all_segments = concated_stats[0][sort_idx]\n",
    "    all_counts = concated_stats[1][sort_idx]\n",
    "    all_centers = concated_stats[2][sort_idx]\n",
    "    all_covs = concated_stats[3][sort_idx]\n",
    "    g_segments, g_idx = np.unique(all_segments, return_index=True)\n",
    "    g_counts = np.split(all_counts, g_idx[1:])\n",
    "    g_centers = np.split(all_centers, g_idx[1:])\n",
    "    g_covs = np.split(all_covs, g_idx[1:])\n",
    "    for segment, count, center, cov in zip(g_segments, g_counts, g_centers, g_covs):\n",
    "        count_i, center_i, cov_i = combine_stats_per_segment_jit(cov, center, count)\n",
    "        segments.append(segment)\n",
    "        counts.append(count_i)\n",
    "        centers.append(center_i)\n",
    "        covs.append(cov_i)\n",
    "    return np.array(segments), np.array(counts), np.array(centers), np.array(covs)\n",
    "\n",
    "\n",
    "@measure_and_compare()\n",
    "def load_and_combine_stats_jit(path):\n",
    "    chunked_stats = load_data_hdf5(path)\n",
    "    return combine_stats_jit(chunked_stats)"
   ]
  },
  {
   "cell_type": "code",
   "execution_count": 5,
   "id": "aa2fb5eb-77c2-4d0e-890b-356b03a87bc3",
   "metadata": {},
   "outputs": [
    {
     "name": "stdout",
     "output_type": "stream",
     "text": [
      "13.45s (25.87s wall) load_and_combine_stats_jit(data/jit), -30.73% faster (load_and_combine_stats was  9.32s)\n"
     ]
    },
    {
     "data": {
      "text/html": [
       "<a href='profiles/load_and_combine_stats_jit__data_jit.svg' target='_blank'>profiles/load_and_combine_stats_jit__data_jit.svg</a><br>"
      ],
      "text/plain": [
       "/home/jonathan/code/data-analysis-speedup/profiles/load_and_combine_stats_jit__data_jit.svg"
      ]
     },
     "metadata": {},
     "output_type": "display_data"
    },
    {
     "name": "stdout",
     "output_type": "stream",
     "text": [
      " 8.78s (16.23s wall) load_and_combine_stats_jit(data/jit), 6.17% faster (load_and_combine_stats was  9.32s)\n"
     ]
    },
    {
     "data": {
      "text/html": [
       "<a href='profiles/load_and_combine_stats_jit__data_jit.svg' target='_blank'>profiles/load_and_combine_stats_jit__data_jit.svg</a><br>"
      ],
      "text/plain": [
       "/home/jonathan/code/data-analysis-speedup/profiles/load_and_combine_stats_jit__data_jit.svg"
      ]
     },
     "metadata": {},
     "output_type": "display_data"
    }
   ],
   "source": [
    "_ = load_and_combine_stats_jit(Path(\"data/jit\"), max_time=25)\n",
    "_ = load_and_combine_stats_jit(Path(\"data/jit\"), max_time=20)"
   ]
  }
 ],
 "metadata": {
  "kernelspec": {
   "display_name": "Python 3",
   "language": "python",
   "name": "python3"
  },
  "language_info": {
   "codemirror_mode": {
    "name": "ipython",
    "version": 3
   },
   "file_extension": ".py",
   "mimetype": "text/x-python",
   "name": "python",
   "nbconvert_exporter": "python",
   "pygments_lexer": "ipython3",
   "version": "3.7.3"
  }
 },
 "nbformat": 4,
 "nbformat_minor": 5
}
